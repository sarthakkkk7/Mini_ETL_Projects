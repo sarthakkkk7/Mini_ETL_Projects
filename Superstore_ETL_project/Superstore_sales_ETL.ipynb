{
  "nbformat": 4,
  "nbformat_minor": 0,
  "metadata": {
    "colab": {
      "provenance": []
    },
    "kernelspec": {
      "name": "python3",
      "display_name": "Python 3"
    },
    "language_info": {
      "name": "python"
    }
  },
  "cells": [
    {
      "cell_type": "code",
      "source": [
        "import pandas as pd"
      ],
      "metadata": {
        "id": "rd1QbYHhr-Ze"
      },
      "execution_count": null,
      "outputs": []
    },
    {
      "cell_type": "code",
      "source": [
        "url = \"https://raw.githubusercontent.com/PySpaceCode/Global-Superstore/main/SuperStore_Sales_Dataset.csv\"\n",
        "\n",
        "df = pd.read_csv(url)\n",
        "\n",
        "print(\"✅ Data Loaded:\", df.shape)\n",
        "print(df.columns.tolist())\n",
        "df.head()"
      ],
      "metadata": {
        "colab": {
          "base_uri": "https://localhost:8080/",
          "height": 654
        },
        "id": "ZleEXot-sAS9",
        "outputId": "c134cae7-623d-4e8a-d57a-c39493b59f4d"
      },
      "execution_count": null,
      "outputs": [
        {
          "output_type": "stream",
          "name": "stdout",
          "text": [
            "✅ Data Loaded: (5901, 23)\n",
            "['Row ID+O6G3A1:R6', 'Order ID', 'Order Date', 'Ship Date', 'Ship Mode', 'Customer ID', 'Customer Name', 'Segment', 'Country', 'City', 'State', 'Region', 'Product ID', 'Category', 'Sub-Category', 'Product Name', 'Sales', 'Quantity', 'Profit', 'Returns', 'Payment Mode', 'ind1', 'ind2']\n"
          ]
        },
        {
          "output_type": "execute_result",
          "data": {
            "text/plain": [
              "   Row ID+O6G3A1:R6        Order ID  Order Date   Ship Date       Ship Mode  \\\n",
              "0              4918  CA-2019-160304  01-01-2019  07-01-2019  Standard Class   \n",
              "1              4919  CA-2019-160304  02-01-2019  07-01-2019  Standard Class   \n",
              "2              4920  CA-2019-160304  02-01-2019  07-01-2019  Standard Class   \n",
              "3              3074  CA-2019-125206  03-01-2019  05-01-2019     First Class   \n",
              "4              8604  US-2019-116365  03-01-2019  08-01-2019  Standard Class   \n",
              "\n",
              "  Customer ID      Customer Name    Segment        Country          City  ...  \\\n",
              "0    BM-11575      Brendan Murry  Corporate  United States  Gaithersburg  ...   \n",
              "1    BM-11575      Brendan Murry  Corporate  United States  Gaithersburg  ...   \n",
              "2    BM-11575      Brendan Murry  Corporate  United States  Gaithersburg  ...   \n",
              "3    LR-16915       Lena Radford   Consumer  United States   Los Angeles  ...   \n",
              "4    CA-12310  Christine Abelman  Corporate  United States   San Antonio  ...   \n",
              "\n",
              "          Category Sub-Category  \\\n",
              "0        Furniture    Bookcases   \n",
              "1        Furniture    Bookcases   \n",
              "2       Technology       Phones   \n",
              "3  Office Supplies      Storage   \n",
              "4       Technology  Accessories   \n",
              "\n",
              "                                        Product Name   Sales Quantity  \\\n",
              "0  Bush Westfield Collection Bookcases, Medium Ch...   73.94        1   \n",
              "1  Bush Westfield Collection Bookcases, Medium Ch...  173.94        3   \n",
              "2                                        GE 30522EE2  231.98        2   \n",
              "3  Recycled Steel Personal File for Hanging File ...  114.46        2   \n",
              "4                Imation Clip USB flash drive - 8 GB   30.08        2   \n",
              "\n",
              "    Profit  Returns  Payment Mode  ind1  ind2  \n",
              "0  28.2668      NaN        Online   NaN   NaN  \n",
              "1  38.2668      NaN        Online   NaN   NaN  \n",
              "2  67.2742      NaN         Cards   NaN   NaN  \n",
              "3  28.6150      NaN        Online   NaN   NaN  \n",
              "4  -5.2640      NaN        Online   NaN   NaN  \n",
              "\n",
              "[5 rows x 23 columns]"
            ],
            "text/html": [
              "\n",
              "  <div id=\"df-1522cf16-f399-41d3-a34f-fd766815d765\" class=\"colab-df-container\">\n",
              "    <div>\n",
              "<style scoped>\n",
              "    .dataframe tbody tr th:only-of-type {\n",
              "        vertical-align: middle;\n",
              "    }\n",
              "\n",
              "    .dataframe tbody tr th {\n",
              "        vertical-align: top;\n",
              "    }\n",
              "\n",
              "    .dataframe thead th {\n",
              "        text-align: right;\n",
              "    }\n",
              "</style>\n",
              "<table border=\"1\" class=\"dataframe\">\n",
              "  <thead>\n",
              "    <tr style=\"text-align: right;\">\n",
              "      <th></th>\n",
              "      <th>Row ID+O6G3A1:R6</th>\n",
              "      <th>Order ID</th>\n",
              "      <th>Order Date</th>\n",
              "      <th>Ship Date</th>\n",
              "      <th>Ship Mode</th>\n",
              "      <th>Customer ID</th>\n",
              "      <th>Customer Name</th>\n",
              "      <th>Segment</th>\n",
              "      <th>Country</th>\n",
              "      <th>City</th>\n",
              "      <th>...</th>\n",
              "      <th>Category</th>\n",
              "      <th>Sub-Category</th>\n",
              "      <th>Product Name</th>\n",
              "      <th>Sales</th>\n",
              "      <th>Quantity</th>\n",
              "      <th>Profit</th>\n",
              "      <th>Returns</th>\n",
              "      <th>Payment Mode</th>\n",
              "      <th>ind1</th>\n",
              "      <th>ind2</th>\n",
              "    </tr>\n",
              "  </thead>\n",
              "  <tbody>\n",
              "    <tr>\n",
              "      <th>0</th>\n",
              "      <td>4918</td>\n",
              "      <td>CA-2019-160304</td>\n",
              "      <td>01-01-2019</td>\n",
              "      <td>07-01-2019</td>\n",
              "      <td>Standard Class</td>\n",
              "      <td>BM-11575</td>\n",
              "      <td>Brendan Murry</td>\n",
              "      <td>Corporate</td>\n",
              "      <td>United States</td>\n",
              "      <td>Gaithersburg</td>\n",
              "      <td>...</td>\n",
              "      <td>Furniture</td>\n",
              "      <td>Bookcases</td>\n",
              "      <td>Bush Westfield Collection Bookcases, Medium Ch...</td>\n",
              "      <td>73.94</td>\n",
              "      <td>1</td>\n",
              "      <td>28.2668</td>\n",
              "      <td>NaN</td>\n",
              "      <td>Online</td>\n",
              "      <td>NaN</td>\n",
              "      <td>NaN</td>\n",
              "    </tr>\n",
              "    <tr>\n",
              "      <th>1</th>\n",
              "      <td>4919</td>\n",
              "      <td>CA-2019-160304</td>\n",
              "      <td>02-01-2019</td>\n",
              "      <td>07-01-2019</td>\n",
              "      <td>Standard Class</td>\n",
              "      <td>BM-11575</td>\n",
              "      <td>Brendan Murry</td>\n",
              "      <td>Corporate</td>\n",
              "      <td>United States</td>\n",
              "      <td>Gaithersburg</td>\n",
              "      <td>...</td>\n",
              "      <td>Furniture</td>\n",
              "      <td>Bookcases</td>\n",
              "      <td>Bush Westfield Collection Bookcases, Medium Ch...</td>\n",
              "      <td>173.94</td>\n",
              "      <td>3</td>\n",
              "      <td>38.2668</td>\n",
              "      <td>NaN</td>\n",
              "      <td>Online</td>\n",
              "      <td>NaN</td>\n",
              "      <td>NaN</td>\n",
              "    </tr>\n",
              "    <tr>\n",
              "      <th>2</th>\n",
              "      <td>4920</td>\n",
              "      <td>CA-2019-160304</td>\n",
              "      <td>02-01-2019</td>\n",
              "      <td>07-01-2019</td>\n",
              "      <td>Standard Class</td>\n",
              "      <td>BM-11575</td>\n",
              "      <td>Brendan Murry</td>\n",
              "      <td>Corporate</td>\n",
              "      <td>United States</td>\n",
              "      <td>Gaithersburg</td>\n",
              "      <td>...</td>\n",
              "      <td>Technology</td>\n",
              "      <td>Phones</td>\n",
              "      <td>GE 30522EE2</td>\n",
              "      <td>231.98</td>\n",
              "      <td>2</td>\n",
              "      <td>67.2742</td>\n",
              "      <td>NaN</td>\n",
              "      <td>Cards</td>\n",
              "      <td>NaN</td>\n",
              "      <td>NaN</td>\n",
              "    </tr>\n",
              "    <tr>\n",
              "      <th>3</th>\n",
              "      <td>3074</td>\n",
              "      <td>CA-2019-125206</td>\n",
              "      <td>03-01-2019</td>\n",
              "      <td>05-01-2019</td>\n",
              "      <td>First Class</td>\n",
              "      <td>LR-16915</td>\n",
              "      <td>Lena Radford</td>\n",
              "      <td>Consumer</td>\n",
              "      <td>United States</td>\n",
              "      <td>Los Angeles</td>\n",
              "      <td>...</td>\n",
              "      <td>Office Supplies</td>\n",
              "      <td>Storage</td>\n",
              "      <td>Recycled Steel Personal File for Hanging File ...</td>\n",
              "      <td>114.46</td>\n",
              "      <td>2</td>\n",
              "      <td>28.6150</td>\n",
              "      <td>NaN</td>\n",
              "      <td>Online</td>\n",
              "      <td>NaN</td>\n",
              "      <td>NaN</td>\n",
              "    </tr>\n",
              "    <tr>\n",
              "      <th>4</th>\n",
              "      <td>8604</td>\n",
              "      <td>US-2019-116365</td>\n",
              "      <td>03-01-2019</td>\n",
              "      <td>08-01-2019</td>\n",
              "      <td>Standard Class</td>\n",
              "      <td>CA-12310</td>\n",
              "      <td>Christine Abelman</td>\n",
              "      <td>Corporate</td>\n",
              "      <td>United States</td>\n",
              "      <td>San Antonio</td>\n",
              "      <td>...</td>\n",
              "      <td>Technology</td>\n",
              "      <td>Accessories</td>\n",
              "      <td>Imation Clip USB flash drive - 8 GB</td>\n",
              "      <td>30.08</td>\n",
              "      <td>2</td>\n",
              "      <td>-5.2640</td>\n",
              "      <td>NaN</td>\n",
              "      <td>Online</td>\n",
              "      <td>NaN</td>\n",
              "      <td>NaN</td>\n",
              "    </tr>\n",
              "  </tbody>\n",
              "</table>\n",
              "<p>5 rows × 23 columns</p>\n",
              "</div>\n",
              "    <div class=\"colab-df-buttons\">\n",
              "\n",
              "  <div class=\"colab-df-container\">\n",
              "    <button class=\"colab-df-convert\" onclick=\"convertToInteractive('df-1522cf16-f399-41d3-a34f-fd766815d765')\"\n",
              "            title=\"Convert this dataframe to an interactive table.\"\n",
              "            style=\"display:none;\">\n",
              "\n",
              "  <svg xmlns=\"http://www.w3.org/2000/svg\" height=\"24px\" viewBox=\"0 -960 960 960\">\n",
              "    <path d=\"M120-120v-720h720v720H120Zm60-500h600v-160H180v160Zm220 220h160v-160H400v160Zm0 220h160v-160H400v160ZM180-400h160v-160H180v160Zm440 0h160v-160H620v160ZM180-180h160v-160H180v160Zm440 0h160v-160H620v160Z\"/>\n",
              "  </svg>\n",
              "    </button>\n",
              "\n",
              "  <style>\n",
              "    .colab-df-container {\n",
              "      display:flex;\n",
              "      gap: 12px;\n",
              "    }\n",
              "\n",
              "    .colab-df-convert {\n",
              "      background-color: #E8F0FE;\n",
              "      border: none;\n",
              "      border-radius: 50%;\n",
              "      cursor: pointer;\n",
              "      display: none;\n",
              "      fill: #1967D2;\n",
              "      height: 32px;\n",
              "      padding: 0 0 0 0;\n",
              "      width: 32px;\n",
              "    }\n",
              "\n",
              "    .colab-df-convert:hover {\n",
              "      background-color: #E2EBFA;\n",
              "      box-shadow: 0px 1px 2px rgba(60, 64, 67, 0.3), 0px 1px 3px 1px rgba(60, 64, 67, 0.15);\n",
              "      fill: #174EA6;\n",
              "    }\n",
              "\n",
              "    .colab-df-buttons div {\n",
              "      margin-bottom: 4px;\n",
              "    }\n",
              "\n",
              "    [theme=dark] .colab-df-convert {\n",
              "      background-color: #3B4455;\n",
              "      fill: #D2E3FC;\n",
              "    }\n",
              "\n",
              "    [theme=dark] .colab-df-convert:hover {\n",
              "      background-color: #434B5C;\n",
              "      box-shadow: 0px 1px 3px 1px rgba(0, 0, 0, 0.15);\n",
              "      filter: drop-shadow(0px 1px 2px rgba(0, 0, 0, 0.3));\n",
              "      fill: #FFFFFF;\n",
              "    }\n",
              "  </style>\n",
              "\n",
              "    <script>\n",
              "      const buttonEl =\n",
              "        document.querySelector('#df-1522cf16-f399-41d3-a34f-fd766815d765 button.colab-df-convert');\n",
              "      buttonEl.style.display =\n",
              "        google.colab.kernel.accessAllowed ? 'block' : 'none';\n",
              "\n",
              "      async function convertToInteractive(key) {\n",
              "        const element = document.querySelector('#df-1522cf16-f399-41d3-a34f-fd766815d765');\n",
              "        const dataTable =\n",
              "          await google.colab.kernel.invokeFunction('convertToInteractive',\n",
              "                                                    [key], {});\n",
              "        if (!dataTable) return;\n",
              "\n",
              "        const docLinkHtml = 'Like what you see? Visit the ' +\n",
              "          '<a target=\"_blank\" href=https://colab.research.google.com/notebooks/data_table.ipynb>data table notebook</a>'\n",
              "          + ' to learn more about interactive tables.';\n",
              "        element.innerHTML = '';\n",
              "        dataTable['output_type'] = 'display_data';\n",
              "        await google.colab.output.renderOutput(dataTable, element);\n",
              "        const docLink = document.createElement('div');\n",
              "        docLink.innerHTML = docLinkHtml;\n",
              "        element.appendChild(docLink);\n",
              "      }\n",
              "    </script>\n",
              "  </div>\n",
              "\n",
              "\n",
              "    <div id=\"df-a480e9b5-4109-4916-b385-8f4b7aa89ce5\">\n",
              "      <button class=\"colab-df-quickchart\" onclick=\"quickchart('df-a480e9b5-4109-4916-b385-8f4b7aa89ce5')\"\n",
              "                title=\"Suggest charts\"\n",
              "                style=\"display:none;\">\n",
              "\n",
              "<svg xmlns=\"http://www.w3.org/2000/svg\" height=\"24px\"viewBox=\"0 0 24 24\"\n",
              "     width=\"24px\">\n",
              "    <g>\n",
              "        <path d=\"M19 3H5c-1.1 0-2 .9-2 2v14c0 1.1.9 2 2 2h14c1.1 0 2-.9 2-2V5c0-1.1-.9-2-2-2zM9 17H7v-7h2v7zm4 0h-2V7h2v10zm4 0h-2v-4h2v4z\"/>\n",
              "    </g>\n",
              "</svg>\n",
              "      </button>\n",
              "\n",
              "<style>\n",
              "  .colab-df-quickchart {\n",
              "      --bg-color: #E8F0FE;\n",
              "      --fill-color: #1967D2;\n",
              "      --hover-bg-color: #E2EBFA;\n",
              "      --hover-fill-color: #174EA6;\n",
              "      --disabled-fill-color: #AAA;\n",
              "      --disabled-bg-color: #DDD;\n",
              "  }\n",
              "\n",
              "  [theme=dark] .colab-df-quickchart {\n",
              "      --bg-color: #3B4455;\n",
              "      --fill-color: #D2E3FC;\n",
              "      --hover-bg-color: #434B5C;\n",
              "      --hover-fill-color: #FFFFFF;\n",
              "      --disabled-bg-color: #3B4455;\n",
              "      --disabled-fill-color: #666;\n",
              "  }\n",
              "\n",
              "  .colab-df-quickchart {\n",
              "    background-color: var(--bg-color);\n",
              "    border: none;\n",
              "    border-radius: 50%;\n",
              "    cursor: pointer;\n",
              "    display: none;\n",
              "    fill: var(--fill-color);\n",
              "    height: 32px;\n",
              "    padding: 0;\n",
              "    width: 32px;\n",
              "  }\n",
              "\n",
              "  .colab-df-quickchart:hover {\n",
              "    background-color: var(--hover-bg-color);\n",
              "    box-shadow: 0 1px 2px rgba(60, 64, 67, 0.3), 0 1px 3px 1px rgba(60, 64, 67, 0.15);\n",
              "    fill: var(--button-hover-fill-color);\n",
              "  }\n",
              "\n",
              "  .colab-df-quickchart-complete:disabled,\n",
              "  .colab-df-quickchart-complete:disabled:hover {\n",
              "    background-color: var(--disabled-bg-color);\n",
              "    fill: var(--disabled-fill-color);\n",
              "    box-shadow: none;\n",
              "  }\n",
              "\n",
              "  .colab-df-spinner {\n",
              "    border: 2px solid var(--fill-color);\n",
              "    border-color: transparent;\n",
              "    border-bottom-color: var(--fill-color);\n",
              "    animation:\n",
              "      spin 1s steps(1) infinite;\n",
              "  }\n",
              "\n",
              "  @keyframes spin {\n",
              "    0% {\n",
              "      border-color: transparent;\n",
              "      border-bottom-color: var(--fill-color);\n",
              "      border-left-color: var(--fill-color);\n",
              "    }\n",
              "    20% {\n",
              "      border-color: transparent;\n",
              "      border-left-color: var(--fill-color);\n",
              "      border-top-color: var(--fill-color);\n",
              "    }\n",
              "    30% {\n",
              "      border-color: transparent;\n",
              "      border-left-color: var(--fill-color);\n",
              "      border-top-color: var(--fill-color);\n",
              "      border-right-color: var(--fill-color);\n",
              "    }\n",
              "    40% {\n",
              "      border-color: transparent;\n",
              "      border-right-color: var(--fill-color);\n",
              "      border-top-color: var(--fill-color);\n",
              "    }\n",
              "    60% {\n",
              "      border-color: transparent;\n",
              "      border-right-color: var(--fill-color);\n",
              "    }\n",
              "    80% {\n",
              "      border-color: transparent;\n",
              "      border-right-color: var(--fill-color);\n",
              "      border-bottom-color: var(--fill-color);\n",
              "    }\n",
              "    90% {\n",
              "      border-color: transparent;\n",
              "      border-bottom-color: var(--fill-color);\n",
              "    }\n",
              "  }\n",
              "</style>\n",
              "\n",
              "      <script>\n",
              "        async function quickchart(key) {\n",
              "          const quickchartButtonEl =\n",
              "            document.querySelector('#' + key + ' button');\n",
              "          quickchartButtonEl.disabled = true;  // To prevent multiple clicks.\n",
              "          quickchartButtonEl.classList.add('colab-df-spinner');\n",
              "          try {\n",
              "            const charts = await google.colab.kernel.invokeFunction(\n",
              "                'suggestCharts', [key], {});\n",
              "          } catch (error) {\n",
              "            console.error('Error during call to suggestCharts:', error);\n",
              "          }\n",
              "          quickchartButtonEl.classList.remove('colab-df-spinner');\n",
              "          quickchartButtonEl.classList.add('colab-df-quickchart-complete');\n",
              "        }\n",
              "        (() => {\n",
              "          let quickchartButtonEl =\n",
              "            document.querySelector('#df-a480e9b5-4109-4916-b385-8f4b7aa89ce5 button');\n",
              "          quickchartButtonEl.style.display =\n",
              "            google.colab.kernel.accessAllowed ? 'block' : 'none';\n",
              "        })();\n",
              "      </script>\n",
              "    </div>\n",
              "\n",
              "    </div>\n",
              "  </div>\n"
            ],
            "application/vnd.google.colaboratory.intrinsic+json": {
              "type": "dataframe",
              "variable_name": "df"
            }
          },
          "metadata": {},
          "execution_count": 12
        }
      ]
    },
    {
      "cell_type": "markdown",
      "source": [
        "Drop unwanted columns"
      ],
      "metadata": {
        "id": "cmySNxwJsZkQ"
      }
    },
    {
      "cell_type": "code",
      "source": [
        "df=df.drop(columns=['ROW ID', 'Postal Code'], errors='ignore')"
      ],
      "metadata": {
        "id": "GYddF_wYsTXv"
      },
      "execution_count": null,
      "outputs": []
    },
    {
      "cell_type": "markdown",
      "source": [
        "Handle missing values"
      ],
      "metadata": {
        "id": "5IsR-jxxspAz"
      }
    },
    {
      "cell_type": "code",
      "source": [
        "df=df.dropna(subset=['Order Date', 'Sales'])"
      ],
      "metadata": {
        "id": "F9w9aqSBsoNk"
      },
      "execution_count": null,
      "outputs": []
    },
    {
      "cell_type": "markdown",
      "source": [
        "Convert types"
      ],
      "metadata": {
        "id": "K8vK3owNtGDO"
      }
    },
    {
      "cell_type": "code",
      "source": [
        "df['Order Date']= pd.to_datetime(df['Order Date'], format='%d-%m-%Y', errors='coerce')\n",
        "df= df.dropna(subset=['Order Date'])\n",
        "df['Sales']= df['Sales'].astype(float)\n",
        "df['Quantity']= df['Quantity'].astype(int)\n",
        "df['Profit']=df['Profit'].astype(float)"
      ],
      "metadata": {
        "id": "9SQAZRj2s4fV"
      },
      "execution_count": null,
      "outputs": []
    },
    {
      "cell_type": "markdown",
      "source": [
        "Feature Engineering"
      ],
      "metadata": {
        "id": "UeIQCgLit1ct"
      }
    },
    {
      "cell_type": "code",
      "source": [
        "df['Month']=df['Order Date'].dt.month_name()\n",
        "df['Year']=df['Order Date'].dt.year\n",
        "df['ProfitMargin']=df['Profit']/df['Sales']"
      ],
      "metadata": {
        "id": "eqQJ_xf9tpFn"
      },
      "execution_count": null,
      "outputs": []
    },
    {
      "cell_type": "markdown",
      "source": [
        "Save cleaned file"
      ],
      "metadata": {
        "id": "hbqdgnNywNNT"
      }
    },
    {
      "cell_type": "code",
      "source": [
        "df.to_csv('Cleaned_Superstore.csv', index=False)"
      ],
      "metadata": {
        "id": "NbQmZq4Au6Oh"
      },
      "execution_count": null,
      "outputs": []
    },
    {
      "cell_type": "markdown",
      "source": [
        "Total sales per category"
      ],
      "metadata": {
        "id": "JYTef-HyyqcF"
      }
    },
    {
      "cell_type": "code",
      "source": [
        "category_sales=df.groupby('Category')['Sales'].sum().reset_index()"
      ],
      "metadata": {
        "id": "UKDeQpuiyaB_"
      },
      "execution_count": null,
      "outputs": []
    },
    {
      "cell_type": "markdown",
      "source": [
        "Monthly revenue trend"
      ],
      "metadata": {
        "id": "WE98v0yLyvbh"
      }
    },
    {
      "cell_type": "code",
      "source": [
        "monthly_revenue=df.groupby('Month')['Sales'].sum().reset_index()"
      ],
      "metadata": {
        "id": "hN_kbGLryptT"
      },
      "execution_count": null,
      "outputs": []
    },
    {
      "cell_type": "markdown",
      "source": [
        "Top 5 products by sales"
      ],
      "metadata": {
        "id": "sChD4g_vy6oH"
      }
    },
    {
      "cell_type": "code",
      "source": [
        "top_products= df.groupby('Product Name')['Sales'].sum().nlargest(5).reset_index()"
      ],
      "metadata": {
        "id": "xwJMQ_Asy50I"
      },
      "execution_count": null,
      "outputs": []
    },
    {
      "cell_type": "code",
      "source": [
        "import matplotlib.pyplot as plt\n",
        "import seaborn as sns\n"
      ],
      "metadata": {
        "id": "_xSXFofwzKSI"
      },
      "execution_count": null,
      "outputs": []
    },
    {
      "cell_type": "markdown",
      "source": [
        "Line chart indicating monthly revenue trend"
      ],
      "metadata": {
        "id": "kg5mrwPv0mb6"
      }
    },
    {
      "cell_type": "code",
      "source": [
        "plt.figure(figsize=(12,7))\n",
        "sns.lineplot(data=monthly_revenue, x='Month', y='Sales', marker='o')\n",
        "plt.title('Monthly Revenue Trend')\n",
        "plt.xlabel('Month')\n",
        "plt.ylabel('Revenue')\n",
        "plt.show()"
      ],
      "metadata": {
        "id": "EOtTMyvfzhSO",
        "colab": {
          "base_uri": "https://localhost:8080/",
          "height": 407
        },
        "outputId": "883b6ee1-7844-4bbf-9bae-0dcd1feecaeb"
      },
      "execution_count": 29,
      "outputs": [
        {
          "output_type": "display_data",
          "data": {
            "text/plain": [
              "<Figure size 1200x700 with 1 Axes>"
            ],
            "image/png": "[encoded data removed]"
          },
          "metadata": {}
        }
      ]
    },
    {
      "cell_type": "code",
      "source": [
        "import sqlite3"
      ],
      "metadata": {
        "id": "ntPErszj0zyP"
      },
      "execution_count": 30,
      "outputs": []
    },
    {
      "cell_type": "code",
      "source": [
        "conn=sqlite3.connect(\"superstore.db\")\n",
        "df.to_sql(\"superstore_cleaned\", conn, if_exists=\"replace\", index=False)\n",
        "conn.close()\n",
        "print(\"✔️ Cleaned data saved to SQLite Database.\")"
      ],
      "metadata": {
        "colab": {
          "base_uri": "https://localhost:8080/"
        },
        "id": "GB_24OVU03X2",
        "outputId": "d42fe587-08d8-4b21-d255-f07af140715c"
      },
      "execution_count": 31,
      "outputs": [
        {
          "output_type": "stream",
          "name": "stdout",
          "text": [
            "✔️ Cleaned data saved to SQLite Database.\n"
          ]
        }
      ]
    },
    {
      "cell_type": "code",
      "source": [],
      "metadata": {
        "id": "BjXSuhKc1U2y"
      },
      "execution_count": null,
      "outputs": []
    }
  ]
}